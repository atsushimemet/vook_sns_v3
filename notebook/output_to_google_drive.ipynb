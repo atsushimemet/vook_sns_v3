{
 "cells": [
  {
   "cell_type": "code",
   "execution_count": 1,
   "id": "dea916a8-649f-4520-afda-d22780e718e5",
   "metadata": {
    "tags": []
   },
   "outputs": [],
   "source": [
    "import gspread\n",
    "import csv\n",
    "import pprint\n",
    "import pandas as pd\n",
    "import numpy as np"
   ]
  },
  {
   "cell_type": "code",
   "execution_count": 2,
   "id": "26b6891f-ac75-45e2-aa9d-1fffcccc7a6a",
   "metadata": {
    "tags": []
   },
   "outputs": [],
   "source": [
    "file_name = ('../data/output/media_insight_vook_20230610.csv')"
   ]
  },
  {
   "cell_type": "code",
   "execution_count": 3,
   "id": "59ef643d-eb46-4123-981f-3de92458985d",
   "metadata": {
    "tags": []
   },
   "outputs": [],
   "source": [
    "df_out = f = pd.read_csv(file_name)"
   ]
  },
  {
   "cell_type": "code",
   "execution_count": 4,
   "id": "edf6f983-525d-4333-bf59-410def5bf66a",
   "metadata": {
    "tags": []
   },
   "outputs": [
    {
     "data": {
      "text/plain": [
       "{'spreadsheetId': '18YfAhAuh9m_e_M-H8bKgMx3KmIYbVI9DBrlVQ4Tdmk4',\n",
       " 'updatedRange': 'raw!A2:I42',\n",
       " 'updatedRows': 41,\n",
       " 'updatedColumns': 9,\n",
       " 'updatedCells': 369}"
      ]
     },
     "execution_count": 4,
     "metadata": {},
     "output_type": "execute_result"
    }
   ],
   "source": [
    "import gspread\n",
    "\n",
    "#(gcpで設定したJsonファイルを指定)\n",
    "wb = gspread.service_account(filename=\"../instaapi/kgt-insta-analysis-d3e74791725f.json\")\n",
    "#ワークブックを選択\n",
    "sh = wb.open(\"insta_analysis_kgt_test\")\n",
    "\n",
    "# #シート一覧を取得する\n",
    "# ws_list = sh.worksheets()\n",
    "\n",
    "#シートを指定する\n",
    "ws_raw1 = sh.worksheet(\"raw\")\n",
    "\n",
    "list_column = ['id', 'timestamp','permalink','media_url','like_count','saved','reach','impressions','engagement']\n",
    "#カラムを追加\n",
    "ws_raw1.update('A1:I1', [list_column])\n",
    "output_df1 = pd.DataFrame(df_out[list_column]).fillna(0)\n",
    "#シート変更範囲の指定\n",
    "value_chenge_pos1 = 'A2:I{}'.format(len(output_df1)+1)\n",
    "\n",
    "ws_raw1.update(value_chenge_pos1, output_df1.to_numpy().tolist())"
   ]
  }
 ],
 "metadata": {
  "kernelspec": {
   "display_name": "Python 3 (ipykernel)",
   "language": "python",
   "name": "python3"
  },
  "language_info": {
   "codemirror_mode": {
    "name": "ipython",
    "version": 3
   },
   "file_extension": ".py",
   "mimetype": "text/x-python",
   "name": "python",
   "nbconvert_exporter": "python",
   "pygments_lexer": "ipython3",
   "version": "3.11.3"
  }
 },
 "nbformat": 4,
 "nbformat_minor": 5
}
